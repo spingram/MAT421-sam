{
  "nbformat": 4,
  "nbformat_minor": 0,
  "metadata": {
    "colab": {
      "provenance": [],
      "authorship_tag": "ABX9TyOeLNMho3VviTSVYYsmYevR",
      "include_colab_link": true
    },
    "kernelspec": {
      "name": "python3",
      "display_name": "Python 3"
    },
    "language_info": {
      "name": "python"
    }
  },
  "cells": [
    {
      "cell_type": "markdown",
      "metadata": {
        "id": "view-in-github",
        "colab_type": "text"
      },
      "source": [
        "<a href=\"https://colab.research.google.com/github/spingram/MAT421-sam/blob/main/QR%20factorization%20and%20Linear%20Regression.ipynb\" target=\"_parent\"><img src=\"https://colab.research.google.com/assets/colab-badge.svg\" alt=\"Open In Colab\"/></a>"
      ]
    },
    {
      "cell_type": "markdown",
      "source": [
        "Write a function my_qrfactorization(A) that when given a matrix A returns an Array containg the matrices Q and R from the QR factorization."
      ],
      "metadata": {
        "id": "nAqa8FfK7GRi"
      }
    },
    {
      "cell_type": "code",
      "source": [
        "import numpy as np\n",
        "\n",
        "def my_qrfactorization(A):\n",
        "\n",
        "  rownum = A.shape[0]\n",
        "  colnum = A.shape[1]\n",
        "  V = np.zeros((rownum,colnum))\n",
        "  Q = np.zeros((rownum,colnum))\n",
        "  for k in range(0,colnum):\n",
        "    if k == 0:\n",
        "      V[:,0] = A[:,0]\n",
        "    else:\n",
        "      U = A[:,k]\n",
        "      NewCol = U.copy()\n",
        "      j= k-1\n",
        "      while j>=0:\n",
        "        NewCol = NewCol - ((np.dot(U,V[:,j])/(np.linalg.norm(V[:,j])**2))*V[:,j])\n",
        "        j = j-1\n",
        "      V[:,k] = NewCol\n",
        "\n",
        "\n",
        "  for k in range(0,colnum):\n",
        "    Q[:,k] = V[:,k]/(np.linalg.norm(V[:,k]))\n",
        "\n",
        "  R = np.dot((Q.T),A)\n",
        "\n",
        "  for j in range(0,R.shape[1]):\n",
        "    for i in range(0,R.shape[0]):\n",
        "      if (i+j)>(j+j):\n",
        "        R[i,j]=0\n",
        "\n",
        "\n",
        "  QR = [Q,R]\n",
        "  return QR\n",
        "\n",
        "\n",
        "\n",
        "\n",
        "\n"
      ],
      "metadata": {
        "id": "YA4wvl3i7s0f"
      },
      "execution_count": 32,
      "outputs": []
    },
    {
      "cell_type": "code",
      "source": [
        "import numpy as np\n",
        "\n",
        "A = np.array([[3,5,7],[2,3,9],[7,1,2]])\n",
        "my_qrfactorization(A)"
      ],
      "metadata": {
        "id": "xTIg2271JYuy",
        "colab": {
          "base_uri": "https://localhost:8080/"
        },
        "outputId": "b0ee9850-5b5c-4516-ff09-77cb72a86640"
      },
      "execution_count": 33,
      "outputs": [
        {
          "output_type": "execute_result",
          "data": {
            "text/plain": [
              "[array([[ 0.38100038,  0.77095846, -0.51035454],\n",
              "        [ 0.25400025,  0.44347168,  0.85954449],\n",
              "        [ 0.88900089, -0.45711696, -0.02686077]]),\n",
              " array([[7.87400787, 3.55600356, 6.73100673],\n",
              "        [0.        , 4.72809039, 8.47372043],\n",
              "        [0.        , 0.        , 4.10969712]])]"
            ]
          },
          "metadata": {},
          "execution_count": 33
        }
      ]
    },
    {
      "cell_type": "code",
      "source": [
        "import numpy as np\n",
        "\n",
        "A = np.array([[3,5],[2,3],[7,1]])\n",
        "my_qrfactorization(A)"
      ],
      "metadata": {
        "colab": {
          "base_uri": "https://localhost:8080/"
        },
        "id": "W5a-vljpP2wg",
        "outputId": "467743a8-5edc-4bff-d3ec-bcf7cc153125"
      },
      "execution_count": 34,
      "outputs": [
        {
          "output_type": "execute_result",
          "data": {
            "text/plain": [
              "[array([[ 0.38100038,  0.77095846],\n",
              "        [ 0.25400025,  0.44347168],\n",
              "        [ 0.88900089, -0.45711696]]),\n",
              " array([[7.87400787, 3.55600356],\n",
              "        [0.        , 4.72809039]])]"
            ]
          },
          "metadata": {},
          "execution_count": 34
        }
      ]
    },
    {
      "cell_type": "code",
      "source": [
        "import numpy as np\n",
        "\n",
        "A = np.array([[3,5,7],[2,3,9]])\n",
        "my_qrfactorization(A)"
      ],
      "metadata": {
        "colab": {
          "base_uri": "https://localhost:8080/"
        },
        "id": "soNgn9Q1Q_sc",
        "outputId": "0aa07a9c-1586-49bf-dbc5-fa2615ab6723"
      },
      "execution_count": 35,
      "outputs": [
        {
          "output_type": "execute_result",
          "data": {
            "text/plain": [
              "[array([[ 0.83205029,  0.5547002 ,  0.17378533],\n",
              "        [ 0.5547002 , -0.83205029, -0.98478356]]),\n",
              " array([[ 3.60555128,  5.82435206, 10.81665383],\n",
              "        [ 0.        ,  0.2773501 , -3.60555128],\n",
              "        [ 0.        ,  0.        , -7.64655469]])]"
            ]
          },
          "metadata": {},
          "execution_count": 35
        }
      ]
    },
    {
      "cell_type": "markdown",
      "source": [
        "Write a program mylinreg that recieves a matrix X with each row being an observation and column a variable, a vector Y with each row being the response to the correspinding observation in X, and a vector Xnew which is a new observation to be added to X. Then returns the coefficients for the variables in X and predicts the respsonse for the new Y"
      ],
      "metadata": {
        "id": "DRKfLnI-Rf64"
      }
    },
    {
      "cell_type": "code",
      "source": [
        "import numpy as np\n",
        "\n",
        "def mylinreg(X,Y,Xnew):\n",
        "    rownum = X.shape[0]\n",
        "    colnum = X.shape[1]\n",
        "    firstcolumn = np.ones((rownum,1))\n",
        "    X = np.hstack([firstcolumn,X])\n",
        "    Y = Y.T\n",
        "    Beta_hat = np.dot(np.linalg.inv(np.dot(X.T,X)),np.dot(X.T,Y))\n",
        "    Xnew = np.insert(Xnew,0,1)\n",
        "    Pred = np.dot(Xnew,Beta_hat)\n",
        "    final = [Beta_hat,Pred]\n",
        "    return final\n",
        "\n",
        "\n",
        "\n"
      ],
      "metadata": {
        "id": "QuDTTTW8SllR"
      },
      "execution_count": 71,
      "outputs": []
    },
    {
      "cell_type": "code",
      "source": [
        "X = np.array([[5.6,6.2,6,5.10,5.7,6.5,6.1,5.11,5.5]])\n",
        "X = X.T\n",
        "Y = np.array([2,7,4,4,3,10,5,3,3])\n",
        "X_new = [6]\n",
        "mylinreg(X,Y,X_new)\n",
        "\n"
      ],
      "metadata": {
        "colab": {
          "base_uri": "https://localhost:8080/"
        },
        "id": "ybizkdKdXnPW",
        "outputId": "f75a6edd-2d30-44c3-da94-59bdfddba823"
      },
      "execution_count": 66,
      "outputs": [
        {
          "output_type": "execute_result",
          "data": {
            "text/plain": [
              "[array([-18.25511805,   3.96247949]), 5.519758898637544]"
            ]
          },
          "metadata": {},
          "execution_count": 66
        }
      ]
    },
    {
      "cell_type": "code",
      "source": [
        "X = np.array([[5.6,8,3],\n",
        "              [6.2,2,7],\n",
        "              [6,9,8.8],\n",
        "              [5.10,5,10],\n",
        "              [5.7,3,5],\n",
        "              [6.5,9,4],\n",
        "              [6.1,5,7],\n",
        "              [5.11,7,9],\n",
        "              [5.5,4,5]])\n",
        "Y = np.array([3,3,13,9,1,10,5,9,3])\n",
        "X_new = [6,7,6]\n",
        "mylinreg(X,Y,X_new)"
      ],
      "metadata": {
        "colab": {
          "base_uri": "https://localhost:8080/"
        },
        "id": "vqI9n1H1dJKL",
        "outputId": "d14707e6-7d7c-4717-ae3b-fceca29d556e"
      },
      "execution_count": 72,
      "outputs": [
        {
          "output_type": "execute_result",
          "data": {
            "text/plain": [
              "[array([-19.74086347,   1.97571291,   1.18061825,   1.18901251]),\n",
              " 7.511816890806372]"
            ]
          },
          "metadata": {},
          "execution_count": 72
        }
      ]
    }
  ]
}