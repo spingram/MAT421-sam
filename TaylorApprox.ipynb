{
  "nbformat": 4,
  "nbformat_minor": 0,
  "metadata": {
    "colab": {
      "provenance": [],
      "authorship_tag": "ABX9TyOqHhfsQed4o/wjFwkcMhGy",
      "include_colab_link": true
    },
    "kernelspec": {
      "name": "python3",
      "display_name": "Python 3"
    },
    "language_info": {
      "name": "python"
    }
  },
  "cells": [
    {
      "cell_type": "markdown",
      "metadata": {
        "id": "view-in-github",
        "colab_type": "text"
      },
      "source": [
        "<a href=\"https://colab.research.google.com/github/spingram/MAT421-sam/blob/main/TaylorApprox.ipynb\" target=\"_parent\"><img src=\"https://colab.research.google.com/assets/colab-badge.svg\" alt=\"Open In Colab\"/></a>"
      ]
    },
    {
      "cell_type": "markdown",
      "source": [
        "Write a function called mytaylorapprox2 that takes in a function f a vector of variables V a vector PTS with the point that is being approximated and a vector Eval where the function is evaluated, that returns the second order taylor approximation of that point."
      ],
      "metadata": {
        "id": "GX8GLGoZhYBo"
      }
    },
    {
      "cell_type": "code",
      "execution_count": 3,
      "metadata": {
        "id": "ywOg-svWhVeq"
      },
      "outputs": [],
      "source": [
        "import sympy as smp\n",
        "import numpy as np\n",
        "\n",
        "\n",
        "def mytaylorapprox2(f,V,pts,Eval):\n",
        "\n",
        "  Gradient = [smp.diff(f,v) for v in V]\n",
        "\n",
        "  print(Gradient)\n",
        "\n",
        "  hessian = [[smp.diff(g,v) for g in Gradient] for v in V]\n",
        "\n",
        "  print(hessian)\n",
        "\n",
        "  Evals_sub = {var: val for var, val in zip(V, Eval)}\n",
        "\n",
        "  approx = f.subs(Evals_sub).evalf()\n",
        "\n",
        "  for i in range(0,len(Gradient)) :\n",
        "    approx = approx + Gradient[i].subs(Evals_sub).evalf()*(pts[i]-Eval[i])\n",
        "\n",
        "  for i in range(0,len(hessian)):\n",
        "    for j in range (0,len(hessian)):\n",
        "      approx = approx + (hessian[i][j].subs(Evals_sub).evalf()*(pts[i]-Eval[i])*(pts[i]-Eval[i]))/2\n",
        "\n",
        "\n",
        "  return approx\n",
        "\n"
      ]
    },
    {
      "cell_type": "code",
      "source": [
        "import sympy as smp\n",
        "\n",
        "x, y = smp.symbols('x y', real = True)\n",
        "f = x**2 + y*x + y**2\n",
        "V = [x,y]\n",
        "Pts = [4,4]\n",
        "Eval = [0,0]\n",
        "mytaylorapprox2(f,V,Pts,Eval)\n"
      ],
      "metadata": {
        "colab": {
          "base_uri": "https://localhost:8080/",
          "height": 72
        },
        "id": "bgB6iAYMh6Fq",
        "outputId": "2de6be01-076d-40e8-9afc-6fe27b18f2f0"
      },
      "execution_count": 59,
      "outputs": [
        {
          "output_type": "stream",
          "name": "stdout",
          "text": [
            "[2*x + y, x + 2*y]\n",
            "[[2, 1], [1, 2]]\n"
          ]
        },
        {
          "output_type": "execute_result",
          "data": {
            "text/plain": [
              "48.0000000000000"
            ],
            "text/latex": "$\\displaystyle 48.0$"
          },
          "metadata": {},
          "execution_count": 59
        }
      ]
    },
    {
      "cell_type": "code",
      "source": [
        "import sympy as smp\n",
        "\n",
        "x = smp.symbols('x', real = True)\n",
        "f = x*smp.cos(3*x)+x*smp.sin(2*x)\n",
        "V = [x]\n",
        "Pts = [4]\n",
        "Eval=[2]\n",
        "mytaylorapprox2(f,V,Pts,Eval)"
      ],
      "metadata": {
        "colab": {
          "base_uri": "https://localhost:8080/",
          "height": 72
        },
        "id": "Y1fDAuTZ4Sh5",
        "outputId": "7cbbfb8f-d7f7-4a69-90ed-e7e9d6724d2a"
      },
      "execution_count": 61,
      "outputs": [
        {
          "output_type": "stream",
          "name": "stdout",
          "text": [
            "[-3*x*sin(3*x) + 2*x*cos(2*x) + sin(2*x) + cos(3*x)]\n",
            "[[-4*x*sin(2*x) - 9*x*cos(3*x) - 6*sin(3*x) + 4*cos(2*x)]]\n"
          ]
        },
        {
          "output_type": "execute_result",
          "data": {
            "text/plain": [
              "-25.3961452061601"
            ],
            "text/latex": "$\\displaystyle -25.3961452061601$"
          },
          "metadata": {},
          "execution_count": 61
        }
      ]
    },
    {
      "cell_type": "code",
      "source": [
        "import sympy as smp\n",
        "\n",
        "x, y = smp.symbols('x y', real = True)\n",
        "f = x**4 + (y**2)*3*x + y**2 +4\n",
        "V = [x,y]\n",
        "Pts = [2,3]\n",
        "Eval = [2,2]\n",
        "mytaylorapprox2(f,V,Pts,Eval)"
      ],
      "metadata": {
        "colab": {
          "base_uri": "https://localhost:8080/",
          "height": 72
        },
        "id": "VKg7qaiE5uWD",
        "outputId": "889d90a8-78ff-4024-801d-572c20033b89"
      },
      "execution_count": 62,
      "outputs": [
        {
          "output_type": "stream",
          "name": "stdout",
          "text": [
            "[4*x**3 + 3*y**2, 6*x*y + 2*y]\n",
            "[[12*x**2, 6*y], [6*y, 6*x + 2]]\n"
          ]
        },
        {
          "output_type": "execute_result",
          "data": {
            "text/plain": [
              "89.0000000000000"
            ],
            "text/latex": "$\\displaystyle 89.0$"
          },
          "metadata": {},
          "execution_count": 62
        }
      ]
    },
    {
      "cell_type": "code",
      "source": [
        "x, y, z = smp.symbols('x y z', real = True)\n",
        "f = x**2 + y*x*z + y**2*z\n",
        "V = [x,y,z]\n",
        "Pts = [4,4,4]\n",
        "Eval = [3,3,3]\n",
        "mytaylorapprox2(f,V,Pts,Eval)\n"
      ],
      "metadata": {
        "colab": {
          "base_uri": "https://localhost:8080/",
          "height": 72
        },
        "id": "k8ZBwsjq88Ym",
        "outputId": "7e4ecd0c-b1d7-448a-9957-e0f77b611c03"
      },
      "execution_count": 65,
      "outputs": [
        {
          "output_type": "stream",
          "name": "stdout",
          "text": [
            "[2*x + y*z, x*z + 2*y*z, x*y + y**2]\n",
            "[[2, z, y], [z, 2*z, x + 2*y], [y, x + 2*y, 0]]\n"
          ]
        },
        {
          "output_type": "execute_result",
          "data": {
            "text/plain": [
              "142.000000000000"
            ],
            "text/latex": "$\\displaystyle 142.0$"
          },
          "metadata": {},
          "execution_count": 65
        }
      ]
    },
    {
      "cell_type": "markdown",
      "source": [
        "Write a function that finds a relative minimum using steepest decent for function f"
      ],
      "metadata": {
        "id": "r6ezEMTN9e2A"
      }
    },
    {
      "cell_type": "code",
      "source": [
        "def myrelmin(f, V, x0):\n",
        "    Gradient = [smp.diff(f, v) for v in V]\n",
        "    xk = x0\n",
        "    i = 0\n",
        "    while all(g.subs({var: index for var, index in zip(V,[round(x,20) for x in xk])}) != 0 for g in Gradient) and i<100 :\n",
        "      alpha = 1\n",
        "      gradient_values = [g.subs({var: index for var, index in zip(V, xk)}) for g in Gradient]\n",
        "      new_term = [x - alpha * grad_value for x, grad_value in zip(xk, gradient_values)]\n",
        "      #while loop checks that the gradient for the next term isn't \"larger\" than the previous one and will decrese step size until new point has a \"smaller\" gradient\n",
        "      j=0\n",
        "      while sum([abs(g.subs({var: index for var, index in zip(V, new_term)})) for g in Gradient]) / (sum([abs(val) for val in gradient_values])) >= 1 and j<10:\n",
        "        alpha = 1/(sum([abs(g.subs({var: index for var, index in zip(V, new_term)})) for g in Gradient]) / (sum([abs(val) for val in gradient_values])))\n",
        "        new_term = [x - alpha * grad_value for x, grad_value in zip(xk, gradient_values)]\n",
        "        j = j+1\n",
        "      xk = [x - alpha * grad_value for x, grad_value in zip(xk, gradient_values)]\n",
        "\n",
        "      i = i+1\n",
        "\n",
        "    if all(g.subs({var: index for var, index in zip(V,[round(x,20) for x in xk])}) == 0 for g in Gradient):\n",
        "      xk = [round(x,20) for x in xk]\n",
        "\n",
        "\n",
        "    return (xk)"
      ],
      "metadata": {
        "id": "TDH1f0Y89p0H"
      },
      "execution_count": 12,
      "outputs": []
    },
    {
      "cell_type": "code",
      "source": [
        "x, y = smp.symbols('x y', real = True)\n",
        "f = x**2+ y*x + y**2\n",
        "V = [x,y]\n",
        "x0 = [4,4]\n",
        "\n",
        "myrelmin(f,V,x0)"
      ],
      "metadata": {
        "colab": {
          "base_uri": "https://localhost:8080/"
        },
        "id": "6doPOVdw9qUb",
        "outputId": "c00fee06-0570-40c7-aa02-b6474a70479d"
      },
      "execution_count": 13,
      "outputs": [
        {
          "output_type": "execute_result",
          "data": {
            "text/plain": [
              "[0.0, 0.0]"
            ]
          },
          "metadata": {},
          "execution_count": 13
        }
      ]
    }
  ]
}