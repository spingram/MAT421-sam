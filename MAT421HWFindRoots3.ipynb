{
  "nbformat": 4,
  "nbformat_minor": 0,
  "metadata": {
    "colab": {
      "provenance": [],
      "authorship_tag": "ABX9TyMqilCtwNsbFOmThKHels2Y",
      "include_colab_link": true
    },
    "kernelspec": {
      "name": "python3",
      "display_name": "Python 3"
    },
    "language_info": {
      "name": "python"
    }
  },
  "cells": [
    {
      "cell_type": "markdown",
      "metadata": {
        "id": "view-in-github",
        "colab_type": "text"
      },
      "source": [
        "<a href=\"https://colab.research.google.com/github/spingram/MAT421-sam/blob/main/MAT421HWFindRoots3.ipynb\" target=\"_parent\"><img src=\"https://colab.research.google.com/assets/colab-badge.svg\" alt=\"Open In Colab\"/></a>"
      ]
    },
    {
      "cell_type": "markdown",
      "source": [
        "Write a function my_nth_root(x,n,tol)\n",
        ", where x\n",
        " and tol\n",
        " are strictly positive scalars, and n\n",
        " is an integer strictly greater than 1. The output argument, r\n",
        ", should be an approximation r=x−−√N\n",
        ", the N\n",
        "-th root of x\n",
        ". This approximation should be computed by using the Newton Raphson method to find the root of the function f(y)=yN−x\n",
        ". The error metric should be |f(y)|\n",
        "."
      ],
      "metadata": {
        "id": "B7izbTIv-rEZ"
      }
    },
    {
      "cell_type": "markdown",
      "source": [],
      "metadata": {
        "id": "Ev2cg1R3A_cH"
      }
    },
    {
      "cell_type": "code",
      "execution_count": null,
      "metadata": {
        "id": "AtV495_6-l2r"
      },
      "outputs": [],
      "source": [
        "\n",
        "def my_nth_root(x,n,tol):\n",
        "  f = lambda y: (y**n - x)\n",
        "  f_prime = lambda y: (n*(y**(n-1)))\n",
        "  y = (x)**(1/2)\n",
        "  while (abs(f(y))>=tol):\n",
        "      y= y - ((f(y))/(f_prime(y)))\n",
        "  return y\n"
      ]
    },
    {
      "cell_type": "code",
      "source": [
        "print(my_nth_root(4,5,.0001))\n"
      ],
      "metadata": {
        "colab": {
          "base_uri": "https://localhost:8080/"
        },
        "id": "cmh_RcpLdzL-",
        "outputId": "2f7ba7f2-6f3f-4b4a-f691-194b17c88ccb"
      },
      "execution_count": null,
      "outputs": [
        {
          "output_type": "stream",
          "name": "stdout",
          "text": [
            "1.3195080911488173\n"
          ]
        }
      ]
    },
    {
      "cell_type": "code",
      "source": [
        "print(my_nth_root(.5,9,.000001))"
      ],
      "metadata": {
        "colab": {
          "base_uri": "https://localhost:8080/"
        },
        "id": "gIb3k4PthiQy",
        "outputId": "f6fbc616-c739-4f20-ebce-4c8c454d5ca7"
      },
      "execution_count": null,
      "outputs": [
        {
          "output_type": "stream",
          "name": "stdout",
          "text": [
            "0.9258747123614213\n"
          ]
        }
      ]
    },
    {
      "cell_type": "markdown",
      "source": [
        "Write a function my_fixed_point(f,g,tol,maxiter)\n",
        ", where f\n",
        " and g\n",
        " are function objects and tol\n",
        " and max_iter\n",
        " are strictly positive scalars. The input argument, max_iter\n",
        ", is also an integer. The output argument, X\n",
        ", should be a scalar satisfying |f(X)−g(X)|<tol\n",
        "; that is, X\n",
        " is a point that (almost) satisfies f(X)=g(X)\n",
        ". To find X\n",
        ", you should use the Bisection method with error metric, |F(m)|<tol\n",
        ". The function my_fixed_point\n",
        " should “give up” after max_iter\n",
        " number of iterations and return X=[]\n",
        " if this occurs."
      ],
      "metadata": {
        "id": "EylUcZTkh6dV"
      }
    },
    {
      "cell_type": "code",
      "source": [
        "import numpy as np\n",
        "\n",
        "\n",
        "def my_fixed_point(f,g,tol,maxiter):\n",
        "  h = lambda x: f(x)-g(x)\n",
        "  x_value=0\n",
        "  current_closest = abs(h(0))\n",
        "  closest_i =0\n",
        "  has_root= False\n",
        "  a = 0\n",
        "  b = 0\n",
        "  result = []\n",
        "  i = 0\n",
        "\n",
        "  # Checks if there are any integers x where the function h(x) = f(x) - g(x) has\n",
        "  # a different sign than h(0) the also finds the x where |h(x)| is closest to zero\n",
        "\n",
        "  while not has_root and i<10000 :\n",
        "   if (np.sign(h(0))!=np.sign(h(i))):\n",
        "    x_value= i\n",
        "    has_root = True\n",
        "   if (np.sign(h(0))!=np.sign(h(-i))):\n",
        "    x_value= -i\n",
        "    has_root = True\n",
        "   if (abs(h(i))<current_closest):\n",
        "    current_closest = abs(h(i))\n",
        "    closest_i = i\n",
        "   if (abs(h(-i))<current_closest):\n",
        "    current_closest = abs(h(-i))\n",
        "    closest_i = -i\n",
        "   i = i+1\n",
        "\n",
        "\n",
        "  # If the functon has a root the code chose the points with oppisite signs and\n",
        "  # uses the\n",
        "\n",
        "  if(has_root) :\n",
        "   if (x_value>0):\n",
        "    a = x_value - 1\n",
        "    b = x_value\n",
        "   else:\n",
        "    a = x_value\n",
        "    b = x_value + 1\n",
        "\n",
        "   m = (a + b)/2\n",
        "   iter =0\n",
        "\n",
        "\n",
        "   while abs(h(m)) > tol and iter<maxiter:\n",
        "    if np.sign(h(a)) == np.sign(h(m)):\n",
        "      a = m\n",
        "\n",
        "    if np.sign(h(b)) == np.sign(h(m)):\n",
        "      b = m\n",
        "\n",
        "    m = (a+b)/2\n",
        "\n",
        "    iter = iter + 1\n",
        "\n",
        "\n",
        "   if abs(h(m)) <tol :\n",
        "       result= m\n",
        "\n",
        "\n",
        "\n",
        "  # If no root then the program checks several values with in 1 of the integer\n",
        "  # m with h(m) closest to zero and then this checks if any values are closer than\n",
        "  # f(m) and find the value x that will be closest to zero\n",
        "\n",
        "  else:\n",
        "   for i in range(1,1000):\n",
        "    if (abs(h(closest_i + i*(1/1000)))<current_closest):\n",
        "     current_closest = abs(h(closest_i + i*(1/1000)))\n",
        "    if (abs(h(closest_i - i*(1/1000)))<current_closest):\n",
        "     current_closest = abs(h(closest_i - i*(1/1000)))\n",
        "\n",
        "\n",
        "\n",
        "    if abs(h(closest_i))<tol:\n",
        "     result= closest_i\n",
        "  return result\n",
        "\n",
        "\n"
      ],
      "metadata": {
        "id": "DOqWO0rF1zat"
      },
      "execution_count": 59,
      "outputs": []
    },
    {
      "cell_type": "code",
      "source": [
        "f = lambda x: x**2\n",
        "g = lambda x: x+5\n",
        "my_fixed_point(f,g,.00001,1000)\n"
      ],
      "metadata": {
        "colab": {
          "base_uri": "https://localhost:8080/"
        },
        "id": "imx5nGCzt8pI",
        "outputId": "e5d35b82-7e81-454a-ad75-54c0f647afc9"
      },
      "execution_count": 60,
      "outputs": [
        {
          "output_type": "execute_result",
          "data": {
            "text/plain": [
              "-1.7912864685058594"
            ]
          },
          "metadata": {},
          "execution_count": 60
        }
      ]
    },
    {
      "cell_type": "code",
      "source": [
        "f = lambda x: x**2\n",
        "g = lambda x: x+5\n",
        "my_fixed_point(f,g,.00001,5)"
      ],
      "metadata": {
        "colab": {
          "base_uri": "https://localhost:8080/"
        },
        "id": "doPsETwc4yB2",
        "outputId": "410cf32f-0112-48c4-b395-62ce142db8e8"
      },
      "execution_count": 64,
      "outputs": [
        {
          "output_type": "execute_result",
          "data": {
            "text/plain": [
              "[]"
            ]
          },
          "metadata": {},
          "execution_count": 64
        }
      ]
    },
    {
      "cell_type": "code",
      "source": [
        "f = lambda x: x**2 + 5\n",
        "g = lambda x: -(x**2)\n",
        "my_fixed_point(f,g,.00001,1000)"
      ],
      "metadata": {
        "colab": {
          "base_uri": "https://localhost:8080/"
        },
        "id": "H6Bc5ilP3Z5s",
        "outputId": "2a5cba5a-b4e7-41bc-bc53-b8b9f0065653"
      },
      "execution_count": 57,
      "outputs": [
        {
          "output_type": "execute_result",
          "data": {
            "text/plain": [
              "[]"
            ]
          },
          "metadata": {},
          "execution_count": 57
        }
      ]
    },
    {
      "cell_type": "code",
      "source": [
        "f = lambda x: (1/(x**2 + 1)) + 1\n",
        "g = lambda x: 1\n",
        "my_fixed_point(f,g,.00001,1000)"
      ],
      "metadata": {
        "colab": {
          "base_uri": "https://localhost:8080/"
        },
        "id": "6mqsCBrQ3ho2",
        "outputId": "00a3ffec-7399-4b97-bb9e-7946dee0debb"
      },
      "execution_count": 63,
      "outputs": [
        {
          "output_type": "execute_result",
          "data": {
            "text/plain": [
              "9999"
            ]
          },
          "metadata": {},
          "execution_count": 63
        }
      ]
    }
  ]
}