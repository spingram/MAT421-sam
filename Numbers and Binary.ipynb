{
  "nbformat": 4,
  "nbformat_minor": 0,
  "metadata": {
    "colab": {
      "provenance": [],
      "authorship_tag": "ABX9TyPO/2soqrQ7zIoTJQIgTVje",
      "include_colab_link": true
    },
    "kernelspec": {
      "name": "python3",
      "display_name": "Python 3"
    },
    "language_info": {
      "name": "python"
    }
  },
  "cells": [
    {
      "cell_type": "markdown",
      "metadata": {
        "id": "view-in-github",
        "colab_type": "text"
      },
      "source": [
        "<a href=\"https://colab.research.google.com/github/spingram/MAT421-sam/blob/main/Numbers%20and%20Binary.ipynb\" target=\"_parent\"><img src=\"https://colab.research.google.com/assets/colab-badge.svg\" alt=\"Open In Colab\"/></a>"
      ]
    },
    {
      "cell_type": "markdown",
      "source": [
        "1.\n",
        "Write a function my_bin_2_dec(b) where b is binary number represented by a list of ones and zeros. The last element of b represents the coefficient of 20\n",
        ", the second-to-last element of b represents the coefficient of 21\n",
        ", and so on. The output variable, d, should be the decimal representation of b. The test cases are provided below."
      ],
      "metadata": {
        "id": "k3u9G6TPQ8e2"
      }
    },
    {
      "cell_type": "code",
      "execution_count": null,
      "metadata": {
        "id": "5pc966YMN_0k"
      },
      "outputs": [],
      "source": [
        "def my_bin_2_dec(b):\n",
        "  pow = len(b)-1\n",
        "  d = 0\n",
        "\n",
        "  for var in b :\n",
        "   d = d + (var * (2**pow))\n",
        "   pow = pow -1\n",
        "\n",
        "  return d\n"
      ]
    },
    {
      "cell_type": "code",
      "source": [
        "print(my_bin_2_dec([1,1,1]))\n",
        "print(my_bin_2_dec([1,0,1,0,1,0,1]))\n",
        "print(my_bin_2_dec([1]*25))\n",
        "print(my_bin_2_dec([1]*52))\n",
        "print(my_bin_2_dec([1,0,0,0,0,0,0,0,0,1,0]))\n",
        "print(my_bin_2_dec([1,1,1,0,0,1,0,1,1,1,1,0,1,0,1,0,0,0,1,1,1,0,0,1,1,1,0,0,0,0,1,1,0,0,0,1,1,0,1,0,0,1,0,0,0,1,1,0,1,0,0,0]))"
      ],
      "metadata": {
        "colab": {
          "base_uri": "https://localhost:8080/"
        },
        "id": "H0IKDE44Y3t6",
        "outputId": "f3571ec3-cdb5-4aa6-bd42-bc4192e135d0"
      },
      "execution_count": null,
      "outputs": [
        {
          "output_type": "stream",
          "name": "stdout",
          "text": [
            "7\n",
            "85\n",
            "33554431\n",
            "4503599627370495\n",
            "1026\n",
            "4044706467128424\n"
          ]
        }
      ]
    },
    {
      "cell_type": "markdown",
      "source": [
        "2. Write a function my_dec_2_bin(d), where d is a positive integer in decimal, and b is the binary representation of d. The output b must be a list of ones and zeros, and the leading term must be a 1 unless the decimal input value is 0. The test cases are provided below."
      ],
      "metadata": {
        "id": "j8jiC2r6ZdGQ"
      }
    },
    {
      "cell_type": "code",
      "source": [
        "def my_dec_2_bin(d):\n",
        "  b = [1]\n",
        "  pow = 0\n",
        "\n",
        "  while d > (2**pow):\n",
        "    pow = pow+1\n",
        "\n",
        "  pow = pow -2\n",
        "  r = d-(2**(pow + 1))\n",
        "\n",
        "  while pow >= 0 :\n",
        "    if ((2**pow)>r):\n",
        "      b.append(0)\n",
        "      pow = pow -1\n",
        "    else :\n",
        "      b.append(1)\n",
        "      r = r - (2**(pow))\n",
        "      pow = pow -1\n",
        "\n",
        "  if d == 0 :\n",
        "    b = [0]\n",
        "  return b"
      ],
      "metadata": {
        "id": "4XiLVY0MfddE"
      },
      "execution_count": null,
      "outputs": []
    },
    {
      "cell_type": "code",
      "source": [
        "print(my_dec_2_bin(0))\n",
        "print(my_dec_2_bin(23))\n",
        "print(my_dec_2_bin(2097))\n"
      ],
      "metadata": {
        "colab": {
          "base_uri": "https://localhost:8080/"
        },
        "id": "CjZGQcfAf-2J",
        "outputId": "e7e2eb84-5404-4da5-f31c-caaec3dc2b3c"
      },
      "execution_count": null,
      "outputs": [
        {
          "output_type": "stream",
          "name": "stdout",
          "text": [
            "[0]\n",
            "[1, 0, 1, 1, 1]\n",
            "[1, 0, 0, 0, 0, 0, 1, 1, 0, 0, 0, 1]\n"
          ]
        }
      ]
    },
    {
      "cell_type": "code",
      "source": [
        "print(my_bin_2_dec(my_dec_2_bin(12654)))"
      ],
      "metadata": {
        "colab": {
          "base_uri": "https://localhost:8080/"
        },
        "id": "fNAFQbWYhzd0",
        "outputId": "7291b566-9d9e-4963-a133-caa989fd860d"
      },
      "execution_count": null,
      "outputs": [
        {
          "output_type": "stream",
          "name": "stdout",
          "text": [
            "12654\n"
          ]
        }
      ]
    },
    {
      "cell_type": "markdown",
      "source": [
        "Write a function my_bin_adder(b1,b2), where b1, b2 and the output variable b are binary numbers represented as in problem 1. The output variable should be computed as b = b1 + b2. Do not use your functions from problems 1 and 2 to write this function (i.e., do not convert b1 and b2 to decimal; add them, and then convert the result back to binary). This function should be able to accept inputs b1 and b2 of any length (i.e., very long binary numbers), and b1 and b2 may not necessarily be the same length."
      ],
      "metadata": {
        "id": "XmWLec7Kk4sw"
      }
    },
    {
      "cell_type": "code",
      "source": [
        "def my_bin_adder(b1, b2):\n",
        "  ln = max(len(b1),len(b2))\n",
        "  new = [0]*ln\n",
        "  b = [0]*ln\n",
        "  if len(b1) > len(b2):\n",
        "    new[ln-len(b2):ln] = b2\n",
        "    b2 = new\n",
        "  if len(b1) < len(b2):\n",
        "    new[ln-len(b1):ln] = b1\n",
        "    b1 = new\n",
        "\n",
        "  i = len(b1)-1\n",
        "  carry = 0\n",
        "\n",
        "  while i >= 0 :\n",
        "    sum = carry + b1[i] + b2[i]\n",
        "    if sum == 0 :\n",
        "      b[i]=0\n",
        "      carry = 0\n",
        "    elif sum == 1 :\n",
        "      b[i]=1\n",
        "      carry = 0\n",
        "    elif sum == 2 :\n",
        "      b[i]=0\n",
        "      carry = 1\n",
        "    else :\n",
        "      b[i]=1\n",
        "      carry = 1\n",
        "    sum =0\n",
        "    i = i-1\n",
        "\n",
        "\n",
        "  if carry == 1:\n",
        "    b.insert(0,1)\n",
        "\n",
        "  return b"
      ],
      "metadata": {
        "id": "tHvPNLYM4IRC"
      },
      "execution_count": null,
      "outputs": []
    },
    {
      "cell_type": "code",
      "source": [
        "print(my_bin_adder([1, 1, 1, 1, 1], [1]))\n",
        "print(my_bin_adder([1, 1, 1, 1, 1], [1, 0, 1, 0, 1, 0, 0]))\n",
        "print(my_bin_adder([1, 1, 0], [1, 0, 1]))"
      ],
      "metadata": {
        "colab": {
          "base_uri": "https://localhost:8080/"
        },
        "id": "vgNgENf_4oMD",
        "outputId": "94d1634a-03cf-4f1c-e6a4-8745e5d728e0"
      },
      "execution_count": null,
      "outputs": [
        {
          "output_type": "stream",
          "name": "stdout",
          "text": [
            "[1, 0, 0, 0, 0, 0]\n",
            "[1, 1, 1, 0, 0, 1, 1]\n",
            "[1, 0, 1, 1]\n"
          ]
        }
      ]
    },
    {
      "cell_type": "markdown",
      "source": [
        "Write a function my_ieee_2_dec(ieee), where ieee is a string contains 64 characters of ones and zeros representing a 64-bit IEEE754 number. The output should be d, the equivalent decimal representation of ieee. The input variable ieee will always be a 64-element string of ones and zeros defining a 64-bit float."
      ],
      "metadata": {
        "id": "86mCQYOM6fhQ"
      }
    },
    {
      "cell_type": "code",
      "source": [
        "def my_ieee_2_dec(ieee):\n",
        "  bin = [int(digit) for digit in (ieee)]\n",
        "  sign = bin[0]\n",
        "  exp = bin[1:12]\n",
        "  frac = bin[12:64]\n",
        "  exp = my_bin_2_dec(exp)\n",
        "  pow = 1\n",
        "  d=0\n",
        "  for var in frac :\n",
        "    d = d + (var *(1/(2**pow)))\n",
        "    pow = pow +1\n",
        "  frac = d\n",
        "\n",
        "  num = ((-1)**sign)*(2**(exp-1023))*(1+frac)\n",
        "  return num"
      ],
      "metadata": {
        "id": "Wrbtti698HA_"
      },
      "execution_count": null,
      "outputs": []
    },
    {
      "cell_type": "code",
      "source": [
        "ieee = '1100000001001000000000000000000000000000000000000000000000000000'\n",
        "my_ieee_2_dec(ieee)"
      ],
      "metadata": {
        "colab": {
          "base_uri": "https://localhost:8080/"
        },
        "id": "BrzIE-5eARb1",
        "outputId": "52baad39-7afe-498b-8bf7-60cc0fd5bfb0"
      },
      "execution_count": null,
      "outputs": [
        {
          "output_type": "execute_result",
          "data": {
            "text/plain": [
              "-48.0"
            ]
          },
          "metadata": {},
          "execution_count": 84
        }
      ]
    },
    {
      "cell_type": "code",
      "source": [
        "ieee = '0100000000001011001100110011001100110011001100110011001100110010'\n",
        "my_ieee_2_dec(ieee)"
      ],
      "metadata": {
        "colab": {
          "base_uri": "https://localhost:8080/"
        },
        "id": "BAoSM5pJBA1z",
        "outputId": "96830b01-cf68-4d6b-b169-707206503a2b"
      },
      "execution_count": null,
      "outputs": [
        {
          "output_type": "execute_result",
          "data": {
            "text/plain": [
              "3.3999999999999995"
            ]
          },
          "metadata": {},
          "execution_count": 131
        }
      ]
    },
    {
      "cell_type": "markdown",
      "source": [
        "Create a graph that shows the change in the gap as numbers get larger"
      ],
      "metadata": {
        "id": "L8sHL8ztfiz_"
      }
    },
    {
      "cell_type": "code",
      "source": [
        "import numpy as np\n",
        "import matplotlib.pyplot as plt\n",
        "\n",
        "steps = list(range(-10000,10000,2))\n",
        "gaps = np.spacing(steps)\n",
        "plt.plot(steps,gaps)\n",
        "plt.show\n"
      ],
      "metadata": {
        "colab": {
          "base_uri": "https://localhost:8080/",
          "height": 462
        },
        "id": "qD9kSwWrhKyW",
        "outputId": "c6cbabbf-f02a-4311-bec3-b72a6c41f8bb"
      },
      "execution_count": null,
      "outputs": [
        {
          "output_type": "execute_result",
          "data": {
            "text/plain": [
              "<function matplotlib.pyplot.show(close=None, block=None)>"
            ]
          },
          "metadata": {},
          "execution_count": 142
        },
        {
          "output_type": "display_data",
          "data": {
            "text/plain": [
              "<Figure size 640x480 with 1 Axes>"
            ],
            "image/png": "[encoded data removed]"
          },
          "metadata": {}
        }
      ]
    },
    {
      "cell_type": "markdown",
      "source": [
        ":Show how the round off error increases as the operation 1 +1/3 - 1/3 is repreated several times"
      ],
      "metadata": {
        "id": "RdByN3zbk6wL"
      }
    },
    {
      "cell_type": "code",
      "source": [
        "import numpy as np\n",
        "import matplotlib.pyplot as plt\n",
        "\n",
        "def add_and_subtract(iterations):\n",
        "    result = 1\n",
        "\n",
        "    for i in range(iterations):\n",
        "        result = result + 1/3\n",
        "\n",
        "    for i in range(iterations):\n",
        "        result = result - 1/3\n",
        "\n",
        "    return result\n",
        "\n"
      ],
      "metadata": {
        "id": "szwF8E6UlE7-"
      },
      "execution_count": 219,
      "outputs": []
    },
    {
      "cell_type": "code",
      "source": [
        "steps = [1,10,100,1000,10000,100000,1000000,10000000,100000000]\n",
        "loop = [0,1,2,3,4,5,6,7,8]\n",
        "rounds = [0]*10\n",
        "num =1\n",
        "for i in loop:\n",
        "  rounds[(i)] = add_and_subtract(steps[i])\n",
        "  print(steps[i])\n",
        "  print(rounds[i])"
      ],
      "metadata": {
        "colab": {
          "base_uri": "https://localhost:8080/"
        },
        "id": "QE_w4CpM0XTg",
        "outputId": "b1c6603c-0629-42c0-b683-087755df5329"
      },
      "execution_count": 220,
      "outputs": [
        {
          "output_type": "stream",
          "name": "stdout",
          "text": [
            "1\n",
            "1.0\n",
            "10\n",
            "0.9999999999999991\n",
            "100\n",
            "1.0000000000000002\n",
            "1000\n",
            "1.0000000000000064\n",
            "10000\n",
            "1.0000000000001166\n",
            "100000\n",
            "1.0000000000019214\n",
            "1000000\n",
            "0.9999999999727986\n",
            "10000000\n",
            "1.0000000000309683\n",
            "100000000\n",
            "1.0000000004964023\n"
          ]
        }
      ]
    }
  ]
}